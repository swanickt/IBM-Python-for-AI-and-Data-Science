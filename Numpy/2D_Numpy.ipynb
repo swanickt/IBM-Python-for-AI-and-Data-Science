{
 "metadata": {
  "kernelspec": {
   "display_name": "Python 3 (ipykernel)",
   "language": "python",
   "name": "python3"
  },
  "language_info": {
   "name": ""
  }
 },
 "nbformat_minor": 4,
 "nbformat": 4,
 "cells": [
  {
   "cell_type": "markdown",
   "source": "<p style=\"text-align:center\">\n    <a href=\"https://skills.network\" target=\"_blank\">\n    <img src=\"https://cf-courses-data.s3.us.cloud-object-storage.appdomain.cloud/assets/logos/SN_web_lightmode.png\" width=\"200\" alt=\"Skills Network Logo\">\n    </a>\n</p>\n\n\n# 2D Numpy in Python\n\n\nEstimated time needed: **30** minutes\n    \n\n## Objectives\n\nAfter completing this lab you will be able to:\n\n* Operate comfortably with `numpy`\n* Perform complex operations with `numpy`\n",
   "metadata": {}
  },
  {
   "cell_type": "markdown",
   "source": "<h2>Table of Contents</h2>\n<div class=\"alert alert-block alert-info\" style=\"margin-top: 20px\">\n    <ul>\n        <li><a href=\"#Create-a-2D-Numpy-Array\">Create a 2D Numpy Array</a></li>\n        <li><a href=\"#Accessing-different-elements-of-a-Numpy-Array\">Accessing different elements of a Numpy Array</a></li>\n        <li><a href=\"#Basic-Operations\">Basic Operations</a></li>\n    </ul>\n  \n</div>\n\n<hr>\n",
   "metadata": {}
  },
  {
   "cell_type": "markdown",
   "source": "## Create a 2D Numpy Array\n",
   "metadata": {}
  },
  {
   "cell_type": "code",
   "source": "# Import the libraries\n\nimport numpy as np",
   "metadata": {
    "ExecuteTime": {
     "end_time": "2025-02-17T21:31:10.276252Z",
     "start_time": "2025-02-17T21:31:10.239731Z"
    }
   },
   "outputs": [],
   "execution_count": 1
  },
  {
   "cell_type": "markdown",
   "source": "Consider the list <code>a</code>, which contains three nested lists **each of equal size**. \n",
   "metadata": {}
  },
  {
   "cell_type": "code",
   "source": "# Create a list\n\na = [[11, 12, 13], [21, 22, 23], [31, 32, 33]]\na",
   "metadata": {
    "ExecuteTime": {
     "end_time": "2025-02-17T21:31:15.484442Z",
     "start_time": "2025-02-17T21:31:15.480824Z"
    }
   },
   "outputs": [
    {
     "data": {
      "text/plain": [
       "[[11, 12, 13], [21, 22, 23], [31, 32, 33]]"
      ]
     },
     "execution_count": 2,
     "metadata": {},
     "output_type": "execute_result"
    }
   ],
   "execution_count": 2
  },
  {
   "cell_type": "markdown",
   "source": "We can cast the list to a Numpy Array as follows:\n",
   "metadata": {}
  },
  {
   "cell_type": "code",
   "source": "# Convert list to Numpy Array\n# Every element is the same type\n\nA = np.array(a)\nA",
   "metadata": {
    "ExecuteTime": {
     "end_time": "2025-02-17T21:31:30.951957Z",
     "start_time": "2025-02-17T21:31:30.948161Z"
    }
   },
   "outputs": [
    {
     "data": {
      "text/plain": [
       "array([[11, 12, 13],\n",
       "       [21, 22, 23],\n",
       "       [31, 32, 33]])"
      ]
     },
     "execution_count": 3,
     "metadata": {},
     "output_type": "execute_result"
    }
   ],
   "execution_count": 3
  },
  {
   "cell_type": "markdown",
   "source": "We can use the attribute <code>ndim</code> to obtain the number of axes or dimensions, referred to as the rank. \n",
   "metadata": {}
  },
  {
   "cell_type": "code",
   "source": "# Show the numpy array dimensions\n\nA.ndim",
   "metadata": {
    "ExecuteTime": {
     "end_time": "2025-02-17T21:31:39.347358Z",
     "start_time": "2025-02-17T21:31:39.344151Z"
    }
   },
   "outputs": [
    {
     "data": {
      "text/plain": [
       "2"
      ]
     },
     "execution_count": 4,
     "metadata": {},
     "output_type": "execute_result"
    }
   ],
   "execution_count": 4
  },
  {
   "cell_type": "markdown",
   "source": "Attribute <code>shape</code> returns a tuple corresponding to the size or number of each dimension.\n",
   "metadata": {}
  },
  {
   "cell_type": "code",
   "source": "# Show the numpy array shape\n\nA.shape",
   "metadata": {
    "ExecuteTime": {
     "end_time": "2025-02-17T21:31:44.236944Z",
     "start_time": "2025-02-17T21:31:44.234187Z"
    }
   },
   "outputs": [
    {
     "data": {
      "text/plain": [
       "(3, 3)"
      ]
     },
     "execution_count": 5,
     "metadata": {},
     "output_type": "execute_result"
    }
   ],
   "execution_count": 5
  },
  {
   "cell_type": "markdown",
   "source": "The total number of elements in the array is given by the attribute <code>size</code>.\n",
   "metadata": {}
  },
  {
   "cell_type": "code",
   "source": "# Show the numpy array size\n\nA.size",
   "metadata": {
    "ExecuteTime": {
     "end_time": "2025-02-17T21:31:51.425605Z",
     "start_time": "2025-02-17T21:31:51.422897Z"
    }
   },
   "outputs": [
    {
     "data": {
      "text/plain": [
       "9"
      ]
     },
     "execution_count": 6,
     "metadata": {},
     "output_type": "execute_result"
    }
   ],
   "execution_count": 6
  },
  {
   "cell_type": "markdown",
   "source": "<hr>\n",
   "metadata": {}
  },
  {
   "cell_type": "markdown",
   "source": "## Accessing different elements of a Numpy Array\n",
   "metadata": {}
  },
  {
   "cell_type": "markdown",
   "source": "We can use rectangular brackets to access the different elements of the array. The correspondence between the rectangular brackets and the list and the rectangular representation is shown in the following figure for a 3x3 array:  \n",
   "metadata": {}
  },
  {
   "cell_type": "markdown",
   "source": "<img src=\"https://cf-courses-data.s3.us.cloud-object-storage.appdomain.cloud/IBMDeveloperSkillsNetwork-PY0101EN-SkillsNetwork/labs/Module%205/images/NumTwoEg.png\" width=\"500\">\n",
   "metadata": {}
  },
  {
   "cell_type": "markdown",
   "source": "We can access the 2nd-row, 3rd column as shown in the following figure:\n",
   "metadata": {}
  },
  {
   "cell_type": "markdown",
   "source": "<img src=\"https://cf-courses-data.s3.us.cloud-object-storage.appdomain.cloud/IBMDeveloperSkillsNetwork-PY0101EN-SkillsNetwork/labs/Module%205/images/NumTwoFT.png\" width=\"400\">\n",
   "metadata": {}
  },
  {
   "cell_type": "markdown",
   "source": " We simply use the square brackets and the indices corresponding to the element we would like:\n",
   "metadata": {}
  },
  {
   "cell_type": "code",
   "source": "# Access the element on the second row and third column\n\nA[1, 2]",
   "metadata": {
    "ExecuteTime": {
     "end_time": "2025-02-17T21:31:56.141757Z",
     "start_time": "2025-02-17T21:31:56.138499Z"
    }
   },
   "outputs": [
    {
     "data": {
      "text/plain": [
       "np.int64(23)"
      ]
     },
     "execution_count": 7,
     "metadata": {},
     "output_type": "execute_result"
    }
   ],
   "execution_count": 7
  },
  {
   "cell_type": "markdown",
   "source": " We can also use the following notation to obtain the elements: \n",
   "metadata": {}
  },
  {
   "cell_type": "code",
   "source": "# Access the element on the second row and third column\n\nA[1][2]",
   "metadata": {
    "ExecuteTime": {
     "end_time": "2025-02-17T21:32:05.168201Z",
     "start_time": "2025-02-17T21:32:05.164903Z"
    }
   },
   "outputs": [
    {
     "data": {
      "text/plain": [
       "np.int64(23)"
      ]
     },
     "execution_count": 8,
     "metadata": {},
     "output_type": "execute_result"
    }
   ],
   "execution_count": 8
  },
  {
   "cell_type": "markdown",
   "source": " Consider the elements shown in the following figure \n",
   "metadata": {}
  },
  {
   "cell_type": "markdown",
   "source": "<img src=\"https://cf-courses-data.s3.us.cloud-object-storage.appdomain.cloud/IBMDeveloperSkillsNetwork-PY0101EN-SkillsNetwork/labs/Module%205/images/NumTwoFF.png\" width=\"400\">\n",
   "metadata": {}
  },
  {
   "cell_type": "markdown",
   "source": "We can access the element as follows: \n",
   "metadata": {}
  },
  {
   "cell_type": "code",
   "source": "# Access the element on the first row and first column\n\nA[0][0]",
   "metadata": {
    "ExecuteTime": {
     "end_time": "2025-02-17T21:32:08.368754Z",
     "start_time": "2025-02-17T21:32:08.365643Z"
    }
   },
   "outputs": [
    {
     "data": {
      "text/plain": [
       "np.int64(11)"
      ]
     },
     "execution_count": 9,
     "metadata": {},
     "output_type": "execute_result"
    }
   ],
   "execution_count": 9
  },
  {
   "cell_type": "markdown",
   "source": "We can also use slicing in numpy arrays. Consider the following figure. We would like to obtain the first two columns in the first row\n",
   "metadata": {}
  },
  {
   "cell_type": "markdown",
   "source": "<img src=\"https://cf-courses-data.s3.us.cloud-object-storage.appdomain.cloud/IBMDeveloperSkillsNetwork-PY0101EN-SkillsNetwork/labs/Module%205/images/NumTwoFSF.png\" width=\"400\">\n",
   "metadata": {}
  },
  {
   "cell_type": "markdown",
   "source": " This can be done with the following syntax: \n",
   "metadata": {}
  },
  {
   "cell_type": "code",
   "source": "# Access the element on the first row and first and second columns\n\nA[0][0:2]",
   "metadata": {
    "ExecuteTime": {
     "end_time": "2025-02-17T21:32:15.148118Z",
     "start_time": "2025-02-17T21:32:15.145365Z"
    }
   },
   "outputs": [
    {
     "data": {
      "text/plain": [
       "array([11, 12])"
      ]
     },
     "execution_count": 10,
     "metadata": {},
     "output_type": "execute_result"
    }
   ],
   "execution_count": 10
  },
  {
   "cell_type": "markdown",
   "source": "Similarly, we can obtain the first two rows of the 3rd column as follows:\n",
   "metadata": {}
  },
  {
   "cell_type": "code",
   "source": "# Access the element on the first and second rows and third column\n\nA[0:2, 2]",
   "metadata": {
    "ExecuteTime": {
     "end_time": "2025-02-17T21:32:30.017247Z",
     "start_time": "2025-02-17T21:32:30.014357Z"
    }
   },
   "outputs": [
    {
     "data": {
      "text/plain": [
       "array([13, 23])"
      ]
     },
     "execution_count": 11,
     "metadata": {},
     "output_type": "execute_result"
    }
   ],
   "execution_count": 11
  },
  {
   "cell_type": "markdown",
   "source": "Corresponding to the following figure: \n",
   "metadata": {}
  },
  {
   "cell_type": "markdown",
   "source": "<img src=\"https://cf-courses-data.s3.us.cloud-object-storage.appdomain.cloud/IBMDeveloperSkillsNetwork-PY0101EN-SkillsNetwork/labs/Module%205/images/2D_numpy.png\" width=\"400\"><br />\n",
   "metadata": {}
  },
  {
   "cell_type": "markdown",
   "source": "## Basic Operations\n",
   "metadata": {}
  },
  {
   "cell_type": "markdown",
   "source": "We can also add arrays. The process is identical to matrix addition. Matrix addition of <code>X</code> and <code>Y</code> is shown in the following figure:\n",
   "metadata": {}
  },
  {
   "cell_type": "markdown",
   "source": "<img src=\"https://cf-courses-data.s3.us.cloud-object-storage.appdomain.cloud/IBMDeveloperSkillsNetwork-PY0101EN-SkillsNetwork/labs/Module%205/images/NumTwoAdd.png\" width=\"500\">\n",
   "metadata": {}
  },
  {
   "cell_type": "markdown",
   "source": "The numpy array is given by <code>X</code> and <code>Y</code>\n",
   "metadata": {}
  },
  {
   "cell_type": "code",
   "source": "# Create a numpy array X\n\nX = np.array([[1, 0], [0, 1]]) \nX",
   "metadata": {
    "ExecuteTime": {
     "end_time": "2025-02-17T21:32:33.747328Z",
     "start_time": "2025-02-17T21:32:33.744147Z"
    }
   },
   "outputs": [
    {
     "data": {
      "text/plain": [
       "array([[1, 0],\n",
       "       [0, 1]])"
      ]
     },
     "execution_count": 12,
     "metadata": {},
     "output_type": "execute_result"
    }
   ],
   "execution_count": 12
  },
  {
   "cell_type": "code",
   "source": "# Create a numpy array Y\n\nY = np.array([[2, 1], [1, 2]]) \nY",
   "metadata": {
    "ExecuteTime": {
     "end_time": "2025-02-17T21:32:35.676845Z",
     "start_time": "2025-02-17T21:32:35.674530Z"
    }
   },
   "outputs": [
    {
     "data": {
      "text/plain": [
       "array([[2, 1],\n",
       "       [1, 2]])"
      ]
     },
     "execution_count": 13,
     "metadata": {},
     "output_type": "execute_result"
    }
   ],
   "execution_count": 13
  },
  {
   "cell_type": "markdown",
   "source": " We can add the numpy arrays as follows.\n",
   "metadata": {}
  },
  {
   "cell_type": "code",
   "source": "# Add X and Y\n\nZ = X + Y\nZ",
   "metadata": {
    "ExecuteTime": {
     "end_time": "2025-02-17T21:32:38.698573Z",
     "start_time": "2025-02-17T21:32:38.696079Z"
    }
   },
   "outputs": [
    {
     "data": {
      "text/plain": [
       "array([[3, 1],\n",
       "       [1, 3]])"
      ]
     },
     "execution_count": 14,
     "metadata": {},
     "output_type": "execute_result"
    }
   ],
   "execution_count": 14
  },
  {
   "cell_type": "markdown",
   "source": "Multiplying a numpy array by a scaler is identical to multiplying a matrix by a scaler. If we multiply the matrix <code>Y</code> by the scaler 2, we simply multiply every element in the matrix by 2, as shown in the figure.\n",
   "metadata": {}
  },
  {
   "cell_type": "markdown",
   "source": "<img src=\"https://cf-courses-data.s3.us.cloud-object-storage.appdomain.cloud/IBMDeveloperSkillsNetwork-PY0101EN-SkillsNetwork/labs/Module%205/images/NumTwoDb.png\" width=\"500\">\n",
   "metadata": {}
  },
  {
   "cell_type": "markdown",
   "source": "We can perform the same operation in numpy as follows \n",
   "metadata": {}
  },
  {
   "cell_type": "code",
   "source": "# Create a numpy array Y\n\nY = np.array([[2, 1], [1, 2]]) \nY",
   "metadata": {
    "ExecuteTime": {
     "end_time": "2025-02-17T21:32:42.755952Z",
     "start_time": "2025-02-17T21:32:42.752764Z"
    }
   },
   "outputs": [
    {
     "data": {
      "text/plain": [
       "array([[2, 1],\n",
       "       [1, 2]])"
      ]
     },
     "execution_count": 15,
     "metadata": {},
     "output_type": "execute_result"
    }
   ],
   "execution_count": 15
  },
  {
   "cell_type": "code",
   "source": "# Multiply Y with 2\n\nZ = 2 * Y\nZ",
   "metadata": {
    "ExecuteTime": {
     "end_time": "2025-02-17T21:32:46.552468Z",
     "start_time": "2025-02-17T21:32:46.549020Z"
    }
   },
   "outputs": [
    {
     "data": {
      "text/plain": [
       "array([[4, 2],\n",
       "       [2, 4]])"
      ]
     },
     "execution_count": 16,
     "metadata": {},
     "output_type": "execute_result"
    }
   ],
   "execution_count": 16
  },
  {
   "cell_type": "markdown",
   "source": "Multiplication of two arrays corresponds to an element-wise product or <em>Hadamard product</em>. Consider matrix <code>X</code> and <code>Y</code>. The Hadamard product corresponds to multiplying each of the elements in the same position, i.e. multiplying elements contained in the same color boxes together. The result is a new matrix that is the same size as matrix <code>Y</code> or <code>X</code>, as shown in the following figure.\n",
   "metadata": {}
  },
  {
   "cell_type": "markdown",
   "source": "<img src=\"https://cf-courses-data.s3.us.cloud-object-storage.appdomain.cloud/IBMDeveloperSkillsNetwork-PY0101EN-SkillsNetwork/labs/Module%205/images/NumTwoMul.png\" width=\"500\">\n",
   "metadata": {}
  },
  {
   "cell_type": "markdown",
   "source": "We can perform element-wise product of the array <code>X</code> and <code>Y</code> as follows:\n",
   "metadata": {}
  },
  {
   "cell_type": "code",
   "source": "# Create a numpy array Y\n\nY = np.array([[2, 1], [1, 2]]) \nY",
   "metadata": {
    "ExecuteTime": {
     "end_time": "2025-02-17T21:32:51.925444Z",
     "start_time": "2025-02-17T21:32:51.922426Z"
    }
   },
   "outputs": [
    {
     "data": {
      "text/plain": [
       "array([[2, 1],\n",
       "       [1, 2]])"
      ]
     },
     "execution_count": 17,
     "metadata": {},
     "output_type": "execute_result"
    }
   ],
   "execution_count": 17
  },
  {
   "cell_type": "code",
   "source": "# Create a numpy array X\n\nX = np.array([[1, 0], [0, 1]]) \nX",
   "metadata": {
    "ExecuteTime": {
     "end_time": "2025-02-17T21:32:53.673073Z",
     "start_time": "2025-02-17T21:32:53.669763Z"
    }
   },
   "outputs": [
    {
     "data": {
      "text/plain": [
       "array([[1, 0],\n",
       "       [0, 1]])"
      ]
     },
     "execution_count": 18,
     "metadata": {},
     "output_type": "execute_result"
    }
   ],
   "execution_count": 18
  },
  {
   "cell_type": "code",
   "source": "# Multiply X with Y\n\nZ = X * Y\nZ",
   "metadata": {
    "ExecuteTime": {
     "end_time": "2025-02-17T21:32:56.309010Z",
     "start_time": "2025-02-17T21:32:56.305726Z"
    }
   },
   "outputs": [
    {
     "data": {
      "text/plain": [
       "array([[2, 0],\n",
       "       [0, 2]])"
      ]
     },
     "execution_count": 19,
     "metadata": {},
     "output_type": "execute_result"
    }
   ],
   "execution_count": 19
  },
  {
   "cell_type": "markdown",
   "source": "We can also perform matrix multiplication with the numpy arrays <code>A</code> and <code>B</code> as follows:\n",
   "metadata": {}
  },
  {
   "cell_type": "markdown",
   "source": "First, we define matrix <code>A</code> and <code>B</code>:\n",
   "metadata": {}
  },
  {
   "cell_type": "code",
   "source": "# Create a matrix A\n\nA = np.array([[0, 1, 1], [1, 0, 1]])\nA",
   "metadata": {},
   "outputs": [],
   "execution_count": null
  },
  {
   "cell_type": "code",
   "source": "# Create a matrix B\n\nB = np.array([[1, 1], [1, 1], [-1, 1]])\nB",
   "metadata": {},
   "outputs": [],
   "execution_count": null
  },
  {
   "cell_type": "markdown",
   "source": "We use the numpy function <code>dot</code> to multiply the arrays together.\n",
   "metadata": {}
  },
  {
   "cell_type": "code",
   "source": "# Calculate the dot product\n\nZ = np.dot(A,B)\nZ",
   "metadata": {},
   "outputs": [],
   "execution_count": null
  },
  {
   "cell_type": "code",
   "source": "# Calculate the sine of Z\n\nnp.sin(Z)",
   "metadata": {},
   "outputs": [],
   "execution_count": null
  },
  {
   "cell_type": "markdown",
   "source": "We use the numpy attribute <code>T</code> to calculate the transposed matrix\n",
   "metadata": {}
  },
  {
   "cell_type": "code",
   "source": "# Create a matrix C\n\nC = np.array([[1,1],[2,2],[3,3]])\nC",
   "metadata": {},
   "outputs": [],
   "execution_count": null
  },
  {
   "cell_type": "code",
   "source": "# Get the transposed of C\n\nC.T",
   "metadata": {},
   "outputs": [],
   "execution_count": null
  },
  {
   "cell_type": "markdown",
   "source": "<h2>Quiz on 2D Numpy Array</h2>\n",
   "metadata": {}
  },
  {
   "cell_type": "markdown",
   "source": "Consider the following list <code>a</code>, convert it to Numpy Array. \n",
   "metadata": {}
  },
  {
   "cell_type": "code",
   "source": "# Write your code below and press Shift+Enter to execute\n\na = [[1, 2, 3, 4], [5, 6, 7, 8], [9, 10, 11, 12]]",
   "metadata": {},
   "outputs": [],
   "execution_count": null
  },
  {
   "cell_type": "markdown",
   "source": "<details><summary>Click here for the solution</summary>\n\n```python\nA = np.array(a)\nA\n```\n\n</details>\n",
   "metadata": {}
  },
  {
   "cell_type": "markdown",
   "source": "Calculate the numpy array size.\n",
   "metadata": {}
  },
  {
   "cell_type": "code",
   "source": "# Write your code below and press Shift+Enter to execute\n",
   "metadata": {},
   "outputs": [],
   "execution_count": null
  },
  {
   "cell_type": "markdown",
   "source": "<details><summary>Click here for the solution</summary>\n\n```python\nA.size\n```\n\n</details>\n",
   "metadata": {}
  },
  {
   "cell_type": "markdown",
   "source": "Access the element on the first row and first and second columns.\n",
   "metadata": {}
  },
  {
   "cell_type": "code",
   "source": "# Write your code below and press Shift+Enter to execute\n",
   "metadata": {},
   "outputs": [],
   "execution_count": null
  },
  {
   "cell_type": "markdown",
   "source": "<details><summary>Click here for the solution</summary>\n\n```python\nA[0][0:2]\n```\n\n</details>\n",
   "metadata": {}
  },
  {
   "cell_type": "markdown",
   "source": "Perform matrix multiplication with the numpy arrays <code>A</code> and <code>B</code>.\n",
   "metadata": {}
  },
  {
   "cell_type": "code",
   "source": "# Write your code below and press Shift+Enter to execute\n\nB = np.array([[0, 1], [1, 0], [1, 1], [-1, 0]])",
   "metadata": {},
   "outputs": [],
   "execution_count": null
  },
  {
   "cell_type": "markdown",
   "source": "<details><summary>Click here for the solution</summary>\n\n```python\nX = np.dot(A,B)\nX\n```\n\n</details>\n",
   "metadata": {}
  },
  {
   "cell_type": "markdown",
   "source": "<hr>\n<h2>The last exercise!</h2>\n<p>Congratulations, you have completed your first lesson and hands-on lab in Python. \n<hr>\n",
   "metadata": {}
  },
  {
   "cell_type": "markdown",
   "source": "## Author\n\n<a href=\"https://www.linkedin.com/in/joseph-s-50398b136/\" target=\"_blank\">Joseph Santarcangelo</a>\n\n\n## Other contributors\n\n<a href=\"www.linkedin.com/in/jiahui-mavis-zhou-a4537814a\">Mavis Zhou</a>\n\n\n## Change Log\n\n\n|  Date (YYYY-MM-DD) |  Version | Changed By  |  Change Description |\n|---|---|---|---|\n| 2023-11-02 | 2.2 | Abhishek Gagneja | Updated instructions |\n| 2022-01-10  | 2.1  | Malika  | Removed the readme for GitShare|\n| 2021-01-05 | 2.2 | Malika | Updated the solution for dot multiplication |\n| 2020-09-09 | 2.1 | Malika | Updated the screenshot for first two rows of the 3rd column |\n| 2020-08-26  | 2.0  | Lavanya | Moved lab to course repo in GitLab |\n\n\n\n<hr/>\n\n## <h3 align=\"center\"> © IBM Corporation 2023. All rights reserved. <h3/>\n",
   "metadata": {}
  },
  {
   "cell_type": "code",
   "source": "",
   "metadata": {},
   "outputs": [],
   "execution_count": null
  }
 ]
}
