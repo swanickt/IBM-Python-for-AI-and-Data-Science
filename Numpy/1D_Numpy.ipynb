{
 "metadata": {
  "kernelspec": {
   "display_name": "Python 3 (ipykernel)",
   "language": "python",
   "name": "python3"
  },
  "language_info": {
   "name": ""
  }
 },
 "nbformat_minor": 4,
 "nbformat": 4,
 "cells": [
  {
   "cell_type": "markdown",
   "source": "<p style=\"text-align:center\">\n    <a href=\"https://skills.network\" target=\"_blank\">\n    <img src=\"https://cf-courses-data.s3.us.cloud-object-storage.appdomain.cloud/assets/logos/SN_web_lightmode.png\" width=\"300\" alt=\"Skills Network Logo\">\n    </a>\n</p>\n\n# 1D Numpy in Python\n\nEstimated time needed: **40** minutes\n\n## Objectives\n\nAfter completing this lab you will be able to:\n\n*   Import and use the `numpy` library\n*   Perform operations with `numpy`\n",
   "metadata": {}
  },
  {
   "cell_type": "markdown",
   "source": "<h2>Table of Contents</h2>\n<div class=\"alert alert-block alert-info\" style=\"margin-thttps://op/?utm_medium=Exinfluencer&utm_source=Exinfluencer&utm_content=000026UJ&utm_term=10006555&utm_id=NA-SkillsNetwork-Channel-SkillsNetworkCoursesIBMDeveloperSkillsNetworkPY0101ENSkillsNetwork19487395-2021-01-01: 20px\">\n    <ul>\n        <li>\n            <a href=\"#What-is-Numpy?\">What is Numpy?</a>\n            <ul>\n                <li><a href=\"#Type\">Type</a></li>\n                <li><a href=\"#Assign-Value\">Assign Value</a></li>\n                <li><a href=\"#Slicing\">Slicing</a></li>\n                <li><a href=\"#Assign-Value-with-List\">Assign Value with List</a></li>\n                <li><a href=\"#Other-Attributes\">Other Attributes</a></li>\n            </ul>\n        </li>\n        <li>\n            <a href=\"#Numpy-Array-Operations\">Numpy Array Operations</a>\n            <ul>\n                <li><a href=\"#Array-Addition\">Array Addition</a></li>\n                <li><a href=\"#Array-Multiplication\">Array Multiplication</a></li>\n                <li><a href=\"#Product-of-Two-Numpy-Arrays\">Product of Two Numpy Arrays</a></li>\n                <li><a href=\"#Dot-Product\">Dot Product</a></li>\n                <li><a href=\"#Adding-Constant-to-a-Numpy-Array\">Adding Constant to a Numpy Array</a></li>\n            </ul>\n        </li>\n        <li><a href=\"#Mathematical-Functions\">Mathematical Functions</a></li>\n        <li><a href=\"#Linspace\">Linspace</a></li>\n    </ul>\n\n</div>\n\n<hr>\n",
   "metadata": {}
  },
  {
   "cell_type": "markdown",
   "source": "## What is Numpy?\n",
   "metadata": {}
  },
  {
   "cell_type": "markdown",
   "source": "NumPy is a Python library used for working with arrays, linear algebra, fourier transform, and matrices. NumPy stands for Numerical Python and it is an open source project. The array object in NumPy is called **ndarray**, it provides a lot of supporting functions that make working with ndarray very easy.\n\nArrays are very frequently used in data science, where speed and resources are very important.\n\nNumPy is usually imported under the np alias.\n\nIt's usually fixed in size and each element is of the same type. We can cast a list to a numpy array by first importing `numpy`:\n",
   "metadata": {}
  },
  {
   "cell_type": "code",
   "source": "# import numpy library\n\nimport numpy as np ",
   "metadata": {
    "ExecuteTime": {
     "end_time": "2025-02-17T21:01:55.761245Z",
     "start_time": "2025-02-17T21:01:55.731067Z"
    }
   },
   "outputs": [],
   "execution_count": 1
  },
  {
   "cell_type": "markdown",
   "source": "We then cast the list as follows:\n",
   "metadata": {}
  },
  {
   "cell_type": "code",
   "source": "# Create a numpy array\n\na = np.array([0, 1, 2, 3, 4])\na",
   "metadata": {
    "ExecuteTime": {
     "end_time": "2025-02-17T21:01:57.215989Z",
     "start_time": "2025-02-17T21:01:57.212469Z"
    }
   },
   "outputs": [
    {
     "data": {
      "text/plain": [
       "array([0, 1, 2, 3, 4])"
      ]
     },
     "execution_count": 2,
     "metadata": {},
     "output_type": "execute_result"
    }
   ],
   "execution_count": 2
  },
  {
   "cell_type": "markdown",
   "source": "Each element is of the same type, in this case integers:\n",
   "metadata": {}
  },
  {
   "cell_type": "markdown",
   "source": "<img src=\"https://cf-courses-data.s3.us.cloud-object-storage.appdomain.cloud/IBMDeveloperSkillsNetwork-PY0101EN-SkillsNetwork/labs/Module%205/images/NumOneNp.png\" width=\"500\">\n",
   "metadata": {}
  },
  {
   "cell_type": "markdown",
   "source": "As with lists, we can access each element via a square bracket:\n",
   "metadata": {}
  },
  {
   "cell_type": "code",
   "source": "# Print each element\n\nprint(\"a[0]:\", a[0])\nprint(\"a[1]:\", a[1])\nprint(\"a[2]:\", a[2])\nprint(\"a[3]:\", a[3])\nprint(\"a[4]:\", a[4])",
   "metadata": {
    "ExecuteTime": {
     "end_time": "2025-02-17T21:02:16.460540Z",
     "start_time": "2025-02-17T21:02:16.458272Z"
    }
   },
   "outputs": [
    {
     "name": "stdout",
     "output_type": "stream",
     "text": [
      "a[0]: 0\n",
      "a[1]: 1\n",
      "a[2]: 2\n",
      "a[3]: 3\n",
      "a[4]: 4\n"
     ]
    }
   ],
   "execution_count": 3
  },
  {
   "cell_type": "markdown",
   "source": "#### Checking NumPy Version\n\nThe version string is stored under __version__ attribute.\n",
   "metadata": {}
  },
  {
   "cell_type": "code",
   "source": "print(np.__version__)",
   "metadata": {
    "ExecuteTime": {
     "end_time": "2025-02-17T21:02:19.447964Z",
     "start_time": "2025-02-17T21:02:19.446072Z"
    }
   },
   "outputs": [
    {
     "name": "stdout",
     "output_type": "stream",
     "text": [
      "2.2.3\n"
     ]
    }
   ],
   "execution_count": 4
  },
  {
   "cell_type": "markdown",
   "source": "### Type\n",
   "metadata": {}
  },
  {
   "cell_type": "markdown",
   "source": "If we check the type of the array we get <b>numpy.ndarray</b>:\n",
   "metadata": {}
  },
  {
   "cell_type": "code",
   "source": "# Check the type of the array\n\ntype(a)",
   "metadata": {
    "ExecuteTime": {
     "end_time": "2025-02-17T21:02:23.995299Z",
     "start_time": "2025-02-17T21:02:23.993095Z"
    }
   },
   "outputs": [
    {
     "data": {
      "text/plain": [
       "numpy.ndarray"
      ]
     },
     "execution_count": 5,
     "metadata": {},
     "output_type": "execute_result"
    }
   ],
   "execution_count": 5
  },
  {
   "cell_type": "markdown",
   "source": "As numpy arrays contain data of the same type, we can use the attribute \"dtype\" to obtain the data type of the array’s elements. In this case, it's a 64-bit integer:\n",
   "metadata": {}
  },
  {
   "cell_type": "code",
   "source": "# Check the type of the values stored in numpy array\n\na.dtype",
   "metadata": {
    "ExecuteTime": {
     "end_time": "2025-02-17T21:02:31.935879Z",
     "start_time": "2025-02-17T21:02:31.933128Z"
    }
   },
   "outputs": [
    {
     "data": {
      "text/plain": [
       "dtype('int64')"
      ]
     },
     "execution_count": 6,
     "metadata": {},
     "output_type": "execute_result"
    }
   ],
   "execution_count": 6
  },
  {
   "cell_type": "markdown",
   "source": "### Try it yourself\n\nCheck the type of the array and Value type for the given array **c**\n",
   "metadata": {}
  },
  {
   "cell_type": "code",
   "source": [
    "b = np.array([3.1, 11.02, 6.2, 213.2, 5.2])\n",
    "\n",
    "# Enter your code here\n",
    "type(b)\n",
    "b.dtype"
   ],
   "metadata": {
    "ExecuteTime": {
     "end_time": "2025-02-17T21:03:21.909835Z",
     "start_time": "2025-02-17T21:03:21.907076Z"
    }
   },
   "outputs": [
    {
     "data": {
      "text/plain": [
       "dtype('float64')"
      ]
     },
     "execution_count": 11,
     "metadata": {},
     "output_type": "execute_result"
    }
   ],
   "execution_count": 11
  },
  {
   "cell_type": "markdown",
   "source": "<details><summary>Click here for the solution</summary>\n\n```python\ntype(b)\n    \nb.dtype \n    \nIf we examine the attribute dtype we see float 64, as the elements are not integers:\n```\n\n</details>\n\n",
   "metadata": {}
  },
  {
   "cell_type": "markdown",
   "source": "### Assign value\n",
   "metadata": {}
  },
  {
   "cell_type": "markdown",
   "source": "We can change the value of the array. Consider the array <code>c</code>:\n",
   "metadata": {}
  },
  {
   "cell_type": "code",
   "source": "# Create numpy array\n\nc = np.array([20, 1, 2, 3, 4])\nc",
   "metadata": {
    "ExecuteTime": {
     "end_time": "2025-02-17T21:03:32.355946Z",
     "start_time": "2025-02-17T21:03:32.353407Z"
    }
   },
   "outputs": [
    {
     "data": {
      "text/plain": [
       "array([20,  1,  2,  3,  4])"
      ]
     },
     "execution_count": 12,
     "metadata": {},
     "output_type": "execute_result"
    }
   ],
   "execution_count": 12
  },
  {
   "cell_type": "markdown",
   "source": "We can change the first element of the array to 100 as follows:\n",
   "metadata": {}
  },
  {
   "cell_type": "code",
   "source": "# Assign the first element to 100\n\nc[0] = 100\nc",
   "metadata": {
    "ExecuteTime": {
     "end_time": "2025-02-17T21:03:35.151507Z",
     "start_time": "2025-02-17T21:03:35.149305Z"
    }
   },
   "outputs": [
    {
     "data": {
      "text/plain": [
       "array([100,   1,   2,   3,   4])"
      ]
     },
     "execution_count": 13,
     "metadata": {},
     "output_type": "execute_result"
    }
   ],
   "execution_count": 13
  },
  {
   "cell_type": "markdown",
   "source": "We can change the 5th element of the array to 0 as follows:\n",
   "metadata": {}
  },
  {
   "cell_type": "code",
   "source": "# Assign the 5th element to 0\n\nc[4] = 0\nc",
   "metadata": {
    "ExecuteTime": {
     "end_time": "2025-02-17T21:03:38.411655Z",
     "start_time": "2025-02-17T21:03:38.409330Z"
    }
   },
   "outputs": [
    {
     "data": {
      "text/plain": [
       "array([100,   1,   2,   3,   0])"
      ]
     },
     "execution_count": 14,
     "metadata": {},
     "output_type": "execute_result"
    }
   ],
   "execution_count": 14
  },
  {
   "cell_type": "markdown",
   "source": "### Try it yourself\n\nAssign the value 20 for the second element in the given array.\n",
   "metadata": {}
  },
  {
   "cell_type": "code",
   "source": [
    "a = np.array([10, 2, 30, 40,50])\n",
    "\n",
    "# Enter your code here\n",
    "a[1] = 20\n",
    "a"
   ],
   "metadata": {
    "ExecuteTime": {
     "end_time": "2025-02-17T21:03:52.681351Z",
     "start_time": "2025-02-17T21:03:52.677806Z"
    }
   },
   "outputs": [
    {
     "data": {
      "text/plain": [
       "array([10, 20, 30, 40, 50])"
      ]
     },
     "execution_count": 16,
     "metadata": {},
     "output_type": "execute_result"
    }
   ],
   "execution_count": 16
  },
  {
   "cell_type": "markdown",
   "source": "<details><summary>Click here for the solution</summary>\n\n```python\na[1]=20\na\n   \n```\n\n</details>\n",
   "metadata": {}
  },
  {
   "cell_type": "markdown",
   "source": "### Slicing\n",
   "metadata": {}
  },
  {
   "cell_type": "markdown",
   "source": "Like lists, we can slice the numpy array. Slicing in python means taking the elements from the given index to another given index.\n\nWe pass slice like this: [start:end].The element at end index is not being included in the output.\n\nWe can select the elements from 1 to 3 and assign it to a new numpy array <code>d</code> as follows:\n",
   "metadata": {}
  },
  {
   "cell_type": "code",
   "source": "# Slicing the numpy array\n\nd = c[1:4]\nd",
   "metadata": {
    "ExecuteTime": {
     "end_time": "2025-02-17T21:03:58.844337Z",
     "start_time": "2025-02-17T21:03:58.842053Z"
    }
   },
   "outputs": [
    {
     "data": {
      "text/plain": [
       "array([1, 2, 3])"
      ]
     },
     "execution_count": 17,
     "metadata": {},
     "output_type": "execute_result"
    }
   ],
   "execution_count": 17
  },
  {
   "cell_type": "markdown",
   "source": "We can assign the corresponding indexes to new values as follows:\n",
   "metadata": {}
  },
  {
   "cell_type": "code",
   "source": "# Set the fourth element and fifth element to 300 and 400\n\nc[3:5] = 300, 400\nc",
   "metadata": {
    "ExecuteTime": {
     "end_time": "2025-02-17T21:04:02.902594Z",
     "start_time": "2025-02-17T21:04:02.900490Z"
    }
   },
   "outputs": [
    {
     "data": {
      "text/plain": [
       "array([100,   1,   2, 300, 400])"
      ]
     },
     "execution_count": 18,
     "metadata": {},
     "output_type": "execute_result"
    }
   ],
   "execution_count": 18
  },
  {
   "cell_type": "markdown",
   "source": "We can also define the steps in slicing, like this: [start:end:step].\n",
   "metadata": {}
  },
  {
   "cell_type": "code",
   "source": "arr = np.array([1, 2, 3, 4, 5, 6, 7])\n\nprint(arr[1:5:2])",
   "metadata": {
    "ExecuteTime": {
     "end_time": "2025-02-17T21:04:11.314963Z",
     "start_time": "2025-02-17T21:04:11.313287Z"
    }
   },
   "outputs": [
    {
     "name": "stdout",
     "output_type": "stream",
     "text": [
      "[2 4]\n"
     ]
    }
   ],
   "execution_count": 19
  },
  {
   "cell_type": "markdown",
   "source": "If we don't pass start its considered 0\n",
   "metadata": {}
  },
  {
   "cell_type": "code",
   "source": "print(arr[:4])",
   "metadata": {
    "ExecuteTime": {
     "end_time": "2025-02-17T21:04:22.382005Z",
     "start_time": "2025-02-17T21:04:22.380093Z"
    }
   },
   "outputs": [
    {
     "name": "stdout",
     "output_type": "stream",
     "text": [
      "[1 2 3 4]\n"
     ]
    }
   ],
   "execution_count": 20
  },
  {
   "cell_type": "markdown",
   "source": "If we don't pass end it considers till the length of array.\n",
   "metadata": {}
  },
  {
   "cell_type": "code",
   "source": "print(arr[4:])",
   "metadata": {
    "ExecuteTime": {
     "end_time": "2025-02-17T21:04:24.989331Z",
     "start_time": "2025-02-17T21:04:24.987512Z"
    }
   },
   "outputs": [
    {
     "name": "stdout",
     "output_type": "stream",
     "text": [
      "[5 6 7]\n"
     ]
    }
   ],
   "execution_count": 21
  },
  {
   "cell_type": "markdown",
   "source": "If we don't pass step its considered 1\n",
   "metadata": {}
  },
  {
   "cell_type": "code",
   "source": "print(arr[1:5:])",
   "metadata": {
    "ExecuteTime": {
     "end_time": "2025-02-17T21:04:29.690155Z",
     "start_time": "2025-02-17T21:04:29.688499Z"
    }
   },
   "outputs": [
    {
     "name": "stdout",
     "output_type": "stream",
     "text": [
      "[2 3 4 5]\n"
     ]
    }
   ],
   "execution_count": 22
  },
  {
   "cell_type": "markdown",
   "source": "### Try it yourself\n\nPrint the even elements in the given array.\n",
   "metadata": {}
  },
  {
   "cell_type": "code",
   "source": [
    "arr = np.array([1, 2, 3, 4, 5, 6, 7, 8])\n",
    "\n",
    "# Enter your code here\n",
    "print(arr[1:8:2])"
   ],
   "metadata": {
    "ExecuteTime": {
     "end_time": "2025-02-17T21:04:53.784826Z",
     "start_time": "2025-02-17T21:04:53.782983Z"
    }
   },
   "outputs": [
    {
     "name": "stdout",
     "output_type": "stream",
     "text": [
      "[2 4 6 8]\n"
     ]
    }
   ],
   "execution_count": 24
  },
  {
   "cell_type": "markdown",
   "source": "<details><summary>Click here for the solution</summary>\n\n```python\nprint(arr[1:8:2])\n\n    \n```\n\n</details>\n",
   "metadata": {}
  },
  {
   "cell_type": "markdown",
   "source": "### Assign Value with List\n",
   "metadata": {}
  },
  {
   "cell_type": "markdown",
   "source": "Similarly, we can use a list to select more than one specific index.\nThe list `select` contains several values:\n",
   "metadata": {}
  },
  {
   "cell_type": "code",
   "source": "# Create the index list\n\nselect = [0, 2, 3, 4]\nselect",
   "metadata": {
    "ExecuteTime": {
     "end_time": "2025-02-17T21:05:05.233656Z",
     "start_time": "2025-02-17T21:05:05.231455Z"
    }
   },
   "outputs": [
    {
     "data": {
      "text/plain": [
       "[0, 2, 3, 4]"
      ]
     },
     "execution_count": 25,
     "metadata": {},
     "output_type": "execute_result"
    }
   ],
   "execution_count": 25
  },
  {
   "cell_type": "markdown",
   "source": "We can use the list as an argument in the brackets. The output is the elements corresponding to the particular indexes:\n",
   "metadata": {}
  },
  {
   "cell_type": "code",
   "source": "# Use List to select elements\n\nd = c[select]\nd",
   "metadata": {
    "ExecuteTime": {
     "end_time": "2025-02-17T21:05:13.295516Z",
     "start_time": "2025-02-17T21:05:13.292916Z"
    }
   },
   "outputs": [
    {
     "data": {
      "text/plain": [
       "array([100,   2, 300, 400])"
      ]
     },
     "execution_count": 26,
     "metadata": {},
     "output_type": "execute_result"
    }
   ],
   "execution_count": 26
  },
  {
   "cell_type": "markdown",
   "source": "We can assign the specified elements to a new value. For example, we can assign the values to 100 000 as follows:\n",
   "metadata": {}
  },
  {
   "cell_type": "code",
   "source": "# Assign the specified elements to new value\n\nc[select] = 100000\nc",
   "metadata": {
    "ExecuteTime": {
     "end_time": "2025-02-17T21:05:33.622162Z",
     "start_time": "2025-02-17T21:05:33.619744Z"
    }
   },
   "outputs": [
    {
     "data": {
      "text/plain": [
       "array([100000,      1, 100000, 100000, 100000])"
      ]
     },
     "execution_count": 27,
     "metadata": {},
     "output_type": "execute_result"
    }
   ],
   "execution_count": 27
  },
  {
   "cell_type": "markdown",
   "source": "### Other Attributes\n",
   "metadata": {}
  },
  {
   "cell_type": "markdown",
   "source": "Let's review some basic array attributes using the array <code>a</code>:\n",
   "metadata": {}
  },
  {
   "cell_type": "code",
   "source": "# Create a numpy array\n\na = np.array([0, 1, 2, 3, 4])\na",
   "metadata": {
    "ExecuteTime": {
     "end_time": "2025-02-17T21:05:39.598601Z",
     "start_time": "2025-02-17T21:05:39.596252Z"
    }
   },
   "outputs": [
    {
     "data": {
      "text/plain": [
       "array([0, 1, 2, 3, 4])"
      ]
     },
     "execution_count": 28,
     "metadata": {},
     "output_type": "execute_result"
    }
   ],
   "execution_count": 28
  },
  {
   "cell_type": "markdown",
   "source": "The attribute <code>size</code> is the number of elements in the array:\n",
   "metadata": {}
  },
  {
   "cell_type": "code",
   "source": "# Get the size of numpy array\n\na.size",
   "metadata": {
    "ExecuteTime": {
     "end_time": "2025-02-17T21:05:42.207103Z",
     "start_time": "2025-02-17T21:05:42.205033Z"
    }
   },
   "outputs": [
    {
     "data": {
      "text/plain": [
       "5"
      ]
     },
     "execution_count": 29,
     "metadata": {},
     "output_type": "execute_result"
    }
   ],
   "execution_count": 29
  },
  {
   "cell_type": "markdown",
   "source": "The next two attributes will make more sense when we get to higher dimensions but let's review them. The attribute <code>ndim</code> represents the number of array dimensions, or the rank of the array. In this case, one:\n",
   "metadata": {}
  },
  {
   "cell_type": "code",
   "source": "# Get the number of dimensions of numpy array\n\na.ndim",
   "metadata": {
    "ExecuteTime": {
     "end_time": "2025-02-17T21:06:03.117772Z",
     "start_time": "2025-02-17T21:06:03.115582Z"
    }
   },
   "outputs": [
    {
     "data": {
      "text/plain": [
       "1"
      ]
     },
     "execution_count": 30,
     "metadata": {},
     "output_type": "execute_result"
    }
   ],
   "execution_count": 30
  },
  {
   "cell_type": "markdown",
   "source": "The attribute <code>shape</code> is a tuple of integers indicating the size of the array in each dimension:\n",
   "metadata": {}
  },
  {
   "cell_type": "code",
   "source": "# Get the shape/size of numpy array\n\na.shape",
   "metadata": {
    "ExecuteTime": {
     "end_time": "2025-02-17T21:06:12.354062Z",
     "start_time": "2025-02-17T21:06:12.352138Z"
    }
   },
   "outputs": [
    {
     "data": {
      "text/plain": [
       "(5,)"
      ]
     },
     "execution_count": 31,
     "metadata": {},
     "output_type": "execute_result"
    }
   ],
   "execution_count": 31
  },
  {
   "cell_type": "markdown",
   "source": "### Try it yourself\n\nFind the size ,dimension and shape for the given array **b**\n",
   "metadata": {}
  },
  {
   "cell_type": "code",
   "source": [
    "b = np.array([10, 20, 30, 40, 50, 60, 70])\n",
    "\n",
    "# Enter your code here\n",
    "b.size\n",
    "b.ndim\n",
    "b.shape"
   ],
   "metadata": {
    "ExecuteTime": {
     "end_time": "2025-02-17T21:06:32.487064Z",
     "start_time": "2025-02-17T21:06:32.485011Z"
    }
   },
   "outputs": [
    {
     "data": {
      "text/plain": [
       "(7,)"
      ]
     },
     "execution_count": 32,
     "metadata": {},
     "output_type": "execute_result"
    }
   ],
   "execution_count": 32
  },
  {
   "cell_type": "markdown",
   "source": "<details><summary>Click here for the solution</summary>\n\n```python\nb.size\n\nb.ndim\n\nb.shape\n\n    \n```\n\n</details>\n",
   "metadata": {}
  },
  {
   "cell_type": "markdown",
   "source": "### Numpy Statistical Functions\n",
   "metadata": {}
  },
  {
   "cell_type": "code",
   "source": "# Create a numpy array\n\na = np.array([1, -1, 1, -1])",
   "metadata": {
    "ExecuteTime": {
     "end_time": "2025-02-17T21:06:38.564528Z",
     "start_time": "2025-02-17T21:06:38.561112Z"
    }
   },
   "outputs": [],
   "execution_count": 33
  },
  {
   "cell_type": "code",
   "source": "# Get the mean of numpy array\n\nmean = a.mean()\nmean",
   "metadata": {
    "ExecuteTime": {
     "end_time": "2025-02-17T21:06:40.714170Z",
     "start_time": "2025-02-17T21:06:40.711909Z"
    }
   },
   "outputs": [
    {
     "data": {
      "text/plain": [
       "np.float64(0.0)"
      ]
     },
     "execution_count": 34,
     "metadata": {},
     "output_type": "execute_result"
    }
   ],
   "execution_count": 34
  },
  {
   "cell_type": "code",
   "source": "# Get the standard deviation of numpy array\n\nstandard_deviation=a.std()\nstandard_deviation",
   "metadata": {
    "ExecuteTime": {
     "end_time": "2025-02-17T21:06:48.101062Z",
     "start_time": "2025-02-17T21:06:48.098838Z"
    }
   },
   "outputs": [
    {
     "data": {
      "text/plain": [
       "np.float64(1.0)"
      ]
     },
     "execution_count": 35,
     "metadata": {},
     "output_type": "execute_result"
    }
   ],
   "execution_count": 35
  },
  {
   "cell_type": "code",
   "source": "# Create a numpy array\n\nb = np.array([-1, 2, 3, 4, 5])\nb",
   "metadata": {
    "ExecuteTime": {
     "end_time": "2025-02-17T21:06:52.777261Z",
     "start_time": "2025-02-17T21:06:52.775143Z"
    }
   },
   "outputs": [
    {
     "data": {
      "text/plain": [
       "array([-1,  2,  3,  4,  5])"
      ]
     },
     "execution_count": 36,
     "metadata": {},
     "output_type": "execute_result"
    }
   ],
   "execution_count": 36
  },
  {
   "cell_type": "code",
   "source": "# Get the biggest value in the numpy array\n\nmax_b = b.max()\nmax_b",
   "metadata": {
    "ExecuteTime": {
     "end_time": "2025-02-17T21:06:55.992028Z",
     "start_time": "2025-02-17T21:06:55.989976Z"
    }
   },
   "outputs": [
    {
     "data": {
      "text/plain": [
       "np.int64(5)"
      ]
     },
     "execution_count": 37,
     "metadata": {},
     "output_type": "execute_result"
    }
   ],
   "execution_count": 37
  },
  {
   "cell_type": "code",
   "source": "# Get the smallest value in the numpy array\n\nmin_b = b.min()\nmin_b",
   "metadata": {
    "ExecuteTime": {
     "end_time": "2025-02-17T21:06:58.201567Z",
     "start_time": "2025-02-17T21:06:58.199176Z"
    }
   },
   "outputs": [
    {
     "data": {
      "text/plain": [
       "np.int64(-1)"
      ]
     },
     "execution_count": 38,
     "metadata": {},
     "output_type": "execute_result"
    }
   ],
   "execution_count": 38
  },
  {
   "cell_type": "markdown",
   "source": "### Try it yourself\n\nFind the sum of maximum and minimum value in the given numpy array\n",
   "metadata": {}
  },
  {
   "cell_type": "markdown",
   "source": "<hr>\n",
   "metadata": {}
  },
  {
   "cell_type": "code",
   "source": [
    "c = np.array([-10, 201, 43, 94, 502])\n",
    "\n",
    "# Enter your code here\n",
    "sum = c.min() + c.max()\n",
    "sum"
   ],
   "metadata": {
    "ExecuteTime": {
     "end_time": "2025-02-17T21:07:31.900493Z",
     "start_time": "2025-02-17T21:07:31.897111Z"
    }
   },
   "outputs": [
    {
     "data": {
      "text/plain": [
       "np.int64(492)"
      ]
     },
     "execution_count": 39,
     "metadata": {},
     "output_type": "execute_result"
    }
   ],
   "execution_count": 39
  },
  {
   "cell_type": "markdown",
   "source": "<details><summary>Click here for the solution</summary>\n\n```python\nmax_c = c.max()\nmax_c\n    \nmin_c = c.min()\nmin_c\n    \n    \nSum = (max_c +min_c)\nSum\n\n    \n```\n\n</details>\n",
   "metadata": {}
  },
  {
   "cell_type": "markdown",
   "source": "## Numpy Array Operations\n\nYou could use arithmetic operators directly between NumPy arrays\n",
   "metadata": {}
  },
  {
   "cell_type": "markdown",
   "source": "### Array Addition\n\n",
   "metadata": {}
  },
  {
   "cell_type": "markdown",
   "source": "Consider the numpy array <code>u</code>:\n",
   "metadata": {}
  },
  {
   "cell_type": "code",
   "source": "u = np.array([1, 0])\nu",
   "metadata": {
    "ExecuteTime": {
     "end_time": "2025-02-17T21:07:43.142901Z",
     "start_time": "2025-02-17T21:07:43.140615Z"
    }
   },
   "outputs": [
    {
     "data": {
      "text/plain": [
       "array([1, 0])"
      ]
     },
     "execution_count": 40,
     "metadata": {},
     "output_type": "execute_result"
    }
   ],
   "execution_count": 40
  },
  {
   "cell_type": "markdown",
   "source": "Consider the numpy array <code>v</code>:\n",
   "metadata": {}
  },
  {
   "cell_type": "code",
   "source": "v = np.array([0, 1])\nv",
   "metadata": {
    "ExecuteTime": {
     "end_time": "2025-02-17T21:07:45.856848Z",
     "start_time": "2025-02-17T21:07:45.854531Z"
    }
   },
   "outputs": [
    {
     "data": {
      "text/plain": [
       "array([0, 1])"
      ]
     },
     "execution_count": 41,
     "metadata": {},
     "output_type": "execute_result"
    }
   ],
   "execution_count": 41
  },
  {
   "cell_type": "markdown",
   "source": "We can add the two arrays and assign it to z:\n",
   "metadata": {}
  },
  {
   "cell_type": "code",
   "source": "# Numpy Array Addition\n\nz = np.add(u, v)\nz",
   "metadata": {
    "ExecuteTime": {
     "end_time": "2025-02-17T21:07:51.225444Z",
     "start_time": "2025-02-17T21:07:51.223353Z"
    }
   },
   "outputs": [
    {
     "data": {
      "text/plain": [
       "array([1, 1])"
      ]
     },
     "execution_count": 42,
     "metadata": {},
     "output_type": "execute_result"
    }
   ],
   "execution_count": 42
  },
  {
   "cell_type": "markdown",
   "source": "The operation is equivalent to vector addition:\n",
   "metadata": {}
  },
  {
   "cell_type": "code",
   "source": "# Plotting functions\n\n\nimport time \nimport sys\nimport numpy as np \n\nimport matplotlib.pyplot as plt\n\n\ndef Plotvec1(u, z, v):\n    \n    ax = plt.axes() # to generate the full window axes\n    ax.arrow(0, 0, *u, head_width=0.05, color='r', head_length=0.1)# Add an arrow to the  U Axes with arrow head width 0.05, color red and arrow head length 0.1\n    plt.text(*(u + 0.1), 'u')#Adds the text u to the Axes \n    \n    ax.arrow(0, 0, *v, head_width=0.05, color='b', head_length=0.1)# Add an arrow to the  v Axes with arrow head width 0.05, color red and arrow head length 0.1\n    plt.text(*(v + 0.1), 'v')#Adds the text v to the Axes \n    \n    ax.arrow(0, 0, *z, head_width=0.05, head_length=0.1)\n    plt.text(*(z + 0.1), 'z')#Adds the text z to the Axes \n    plt.ylim(-2, 2)#set the ylim to bottom(-2), top(2)\n    plt.xlim(-2, 2)#set the xlim to left(-2), right(2)\n\n  \n",
   "metadata": {
    "ExecuteTime": {
     "end_time": "2025-02-17T21:08:28.860762Z",
     "start_time": "2025-02-17T21:08:28.857499Z"
    }
   },
   "outputs": [],
   "execution_count": 45
  },
  {
   "cell_type": "code",
   "source": "# Plot numpy arrays\n\nPlotvec1(u, z, v)",
   "metadata": {
    "ExecuteTime": {
     "end_time": "2025-02-17T21:08:32.240492Z",
     "start_time": "2025-02-17T21:08:31.971899Z"
    }
   },
   "outputs": [
    {
     "data": {
      "text/plain": [
       "<Figure size 640x480 with 1 Axes>"
      ],
      "image/png": "[encoded data removed]"
     },
     "metadata": {},
     "output_type": "display_data"
    }
   ],
   "execution_count": 46
  },
  {
   "cell_type": "markdown",
   "source": "### Try it yourself\n\nPerform addition operation on the given numpy array arr1 and arr2:\n",
   "metadata": {}
  },
  {
   "cell_type": "code",
   "source": [
    "arr1 = np.array([10, 11, 12, 13, 14, 15])\n",
    "arr2 = np.array([20, 21, 22, 23, 24, 25])\n",
    "\n",
    "# Enter your code here\n",
    "arr3 = np.add(arr1, arr2)\n",
    "arr3"
   ],
   "metadata": {
    "ExecuteTime": {
     "end_time": "2025-02-17T21:09:17.079003Z",
     "start_time": "2025-02-17T21:09:17.069622Z"
    }
   },
   "outputs": [
    {
     "data": {
      "text/plain": [
       "array([30, 32, 34, 36, 38, 40])"
      ]
     },
     "execution_count": 47,
     "metadata": {},
     "output_type": "execute_result"
    }
   ],
   "execution_count": 47
  },
  {
   "cell_type": "markdown",
   "source": "<details><summary>Click here for the solution</summary>\n\n```python\narr3 = np.add(arr1, arr2)\narr3\n\n    \n```\n\n</details>\n",
   "metadata": {}
  },
  {
   "cell_type": "markdown",
   "source": "### Array Subtraction\n",
   "metadata": {}
  },
  {
   "cell_type": "markdown",
   "source": "Consider the numpy array a:\n",
   "metadata": {}
  },
  {
   "cell_type": "code",
   "source": "a = np.array([10, 20, 30])\na",
   "metadata": {
    "ExecuteTime": {
     "end_time": "2025-02-17T21:09:24.346944Z",
     "start_time": "2025-02-17T21:09:24.344370Z"
    }
   },
   "outputs": [
    {
     "data": {
      "text/plain": [
       "array([10, 20, 30])"
      ]
     },
     "execution_count": 48,
     "metadata": {},
     "output_type": "execute_result"
    }
   ],
   "execution_count": 48
  },
  {
   "cell_type": "markdown",
   "source": "Consider the numpy array b:\n",
   "metadata": {}
  },
  {
   "cell_type": "code",
   "source": "b = np.array([5, 10, 15])\nb",
   "metadata": {
    "ExecuteTime": {
     "end_time": "2025-02-17T21:09:26.431533Z",
     "start_time": "2025-02-17T21:09:26.428863Z"
    }
   },
   "outputs": [
    {
     "data": {
      "text/plain": [
       "array([ 5, 10, 15])"
      ]
     },
     "execution_count": 49,
     "metadata": {},
     "output_type": "execute_result"
    }
   ],
   "execution_count": 49
  },
  {
   "cell_type": "markdown",
   "source": "We can subtract the two arrays and assign it to c:\n",
   "metadata": {}
  },
  {
   "cell_type": "code",
   "source": "c = np.subtract(a, b)\n\nprint(c)",
   "metadata": {
    "ExecuteTime": {
     "end_time": "2025-02-17T21:09:28.769337Z",
     "start_time": "2025-02-17T21:09:28.767655Z"
    }
   },
   "outputs": [
    {
     "name": "stdout",
     "output_type": "stream",
     "text": [
      "[ 5 10 15]\n"
     ]
    }
   ],
   "execution_count": 50
  },
  {
   "cell_type": "markdown",
   "source": "### Try it yourself\n\nPerform subtraction operation on the given numpy array arr1 and arr2:\n",
   "metadata": {}
  },
  {
   "cell_type": "code",
   "source": [
    "arr1 = np.array([10, 20, 30, 40, 50, 60])\n",
    "arr2 = np.array([20, 21, 22, 23, 24, 25])\n",
    "\n",
    "# Enter your code here\n",
    "print(np.subtract(arr1, arr2))"
   ],
   "metadata": {
    "ExecuteTime": {
     "end_time": "2025-02-17T21:09:41.163906Z",
     "start_time": "2025-02-17T21:09:41.162090Z"
    }
   },
   "outputs": [
    {
     "name": "stdout",
     "output_type": "stream",
     "text": [
      "[-10  -1   8  17  26  35]\n"
     ]
    }
   ],
   "execution_count": 51
  },
  {
   "cell_type": "markdown",
   "source": "<details><summary>Click here for the solution</summary>\n\n```python\narr3 = np.subtract(arr1, arr2)\narr3\n\n    \n```\n\n</details>\n",
   "metadata": {}
  },
  {
   "cell_type": "markdown",
   "source": "### Array Multiplication\n",
   "metadata": {}
  },
  {
   "cell_type": "markdown",
   "source": "Consider the vector numpy array <code>y</code>:\n",
   "metadata": {}
  },
  {
   "cell_type": "code",
   "source": "# Create a numpy array\n\nx = np.array([1, 2])\nx",
   "metadata": {
    "ExecuteTime": {
     "end_time": "2025-02-17T21:09:50.983761Z",
     "start_time": "2025-02-17T21:09:50.981067Z"
    }
   },
   "outputs": [
    {
     "data": {
      "text/plain": [
       "array([1, 2])"
      ]
     },
     "execution_count": 52,
     "metadata": {},
     "output_type": "execute_result"
    }
   ],
   "execution_count": 52
  },
  {
   "cell_type": "code",
   "source": "# Create a numpy array\n\ny = np.array([2, 1])\ny",
   "metadata": {
    "ExecuteTime": {
     "end_time": "2025-02-17T21:09:52.833693Z",
     "start_time": "2025-02-17T21:09:52.831570Z"
    }
   },
   "outputs": [
    {
     "data": {
      "text/plain": [
       "array([2, 1])"
      ]
     },
     "execution_count": 53,
     "metadata": {},
     "output_type": "execute_result"
    }
   ],
   "execution_count": 53
  },
  {
   "cell_type": "markdown",
   "source": "We can multiply every element in the array by 2:\n",
   "metadata": {}
  },
  {
   "cell_type": "code",
   "source": "# Numpy Array Multiplication\n\nz = np.multiply(x, y)\nz",
   "metadata": {
    "ExecuteTime": {
     "end_time": "2025-02-17T21:10:03.547245Z",
     "start_time": "2025-02-17T21:10:03.545004Z"
    }
   },
   "outputs": [
    {
     "data": {
      "text/plain": [
       "array([2, 2])"
      ]
     },
     "execution_count": 54,
     "metadata": {},
     "output_type": "execute_result"
    }
   ],
   "execution_count": 54
  },
  {
   "cell_type": "markdown",
   "source": "This is equivalent to multiplying a vector by a scaler:\n",
   "metadata": {}
  },
  {
   "cell_type": "markdown",
   "source": "### Try it yourself\n\nPerform multiply operation on the given numpy array arr1 and arr2:\n",
   "metadata": {}
  },
  {
   "cell_type": "code",
   "source": [
    "arr1 = np.array([10, 20, 30, 40, 50, 60])\n",
    "arr2 = np.array([2, 1, 2, 3, 4, 5])\n",
    "\n",
    "# Enter your code here\n",
    "print(np.multiply(arr1, arr2))"
   ],
   "metadata": {
    "ExecuteTime": {
     "end_time": "2025-02-17T21:10:23.449036Z",
     "start_time": "2025-02-17T21:10:23.445924Z"
    }
   },
   "outputs": [
    {
     "name": "stdout",
     "output_type": "stream",
     "text": [
      "[ 20  20  60 120 200 300]\n"
     ]
    }
   ],
   "execution_count": 55
  },
  {
   "cell_type": "markdown",
   "source": "<details><summary>Click here for the solution</summary>\n\n```python\narr3 = np.multiply(arr1, arr2)\narr3\n\n    \n```\n\n</details>\n",
   "metadata": {}
  },
  {
   "cell_type": "markdown",
   "source": "### Array Division\n",
   "metadata": {}
  },
  {
   "cell_type": "markdown",
   "source": "Consider the vector numpy array a:\n",
   "metadata": {}
  },
  {
   "cell_type": "code",
   "source": "a = np.array([10, 20, 30])\na",
   "metadata": {
    "ExecuteTime": {
     "end_time": "2025-02-17T21:10:28.109975Z",
     "start_time": "2025-02-17T21:10:28.107280Z"
    }
   },
   "outputs": [
    {
     "data": {
      "text/plain": [
       "array([10, 20, 30])"
      ]
     },
     "execution_count": 56,
     "metadata": {},
     "output_type": "execute_result"
    }
   ],
   "execution_count": 56
  },
  {
   "cell_type": "markdown",
   "source": "Consider the vector numpy array b:\n",
   "metadata": {}
  },
  {
   "cell_type": "code",
   "source": "b = np.array([2, 10, 5])\nb",
   "metadata": {
    "ExecuteTime": {
     "end_time": "2025-02-17T21:10:29.565935Z",
     "start_time": "2025-02-17T21:10:29.563370Z"
    }
   },
   "outputs": [
    {
     "data": {
      "text/plain": [
       "array([ 2, 10,  5])"
      ]
     },
     "execution_count": 57,
     "metadata": {},
     "output_type": "execute_result"
    }
   ],
   "execution_count": 57
  },
  {
   "cell_type": "markdown",
   "source": "We can divide the two arrays and assign it to c:\n",
   "metadata": {}
  },
  {
   "cell_type": "code",
   "source": "c = np.divide(a, b)\nc",
   "metadata": {
    "ExecuteTime": {
     "end_time": "2025-02-17T21:10:31.207589Z",
     "start_time": "2025-02-17T21:10:31.205262Z"
    }
   },
   "outputs": [
    {
     "data": {
      "text/plain": [
       "array([5., 2., 6.])"
      ]
     },
     "execution_count": 58,
     "metadata": {},
     "output_type": "execute_result"
    }
   ],
   "execution_count": 58
  },
  {
   "cell_type": "markdown",
   "source": "### Try it yourself\n\nPerform division operation on the given numpy array arr1 and arr2:\n",
   "metadata": {}
  },
  {
   "cell_type": "code",
   "source": [
    "arr1 = np.array([10, 20, 30, 40, 50, 60])\n",
    "arr2 = np.array([3, 5, 10, 8, 2, 33])\n",
    "\n",
    "# Enter your code here\n",
    "print(np.divide(arr1, arr2))"
   ],
   "metadata": {
    "ExecuteTime": {
     "end_time": "2025-02-17T21:10:48.317164Z",
     "start_time": "2025-02-17T21:10:48.314165Z"
    }
   },
   "outputs": [
    {
     "name": "stdout",
     "output_type": "stream",
     "text": [
      "[ 3.33333333  4.          3.          5.         25.          1.81818182]\n"
     ]
    }
   ],
   "execution_count": 59
  },
  {
   "cell_type": "markdown",
   "source": "<details><summary>Click here for the solution</summary>\n\n```python\narr3 = np.divide(arr1, arr2)\narr3\n\n    \n```\n\n</details>\n",
   "metadata": {}
  },
  {
   "cell_type": "markdown",
   "source": "### Dot Product\n",
   "metadata": {}
  },
  {
   "cell_type": "markdown",
   "source": "The dot product of the two numpy arrays <code>u</code> and <code>v</code> is given by:\n",
   "metadata": {}
  },
  {
   "cell_type": "code",
   "source": "X = np.array([1, 2])\nY = np.array([3, 2])",
   "metadata": {
    "ExecuteTime": {
     "end_time": "2025-02-17T21:10:53.369682Z",
     "start_time": "2025-02-17T21:10:53.367937Z"
    }
   },
   "outputs": [],
   "execution_count": 60
  },
  {
   "cell_type": "code",
   "source": "# Calculate the dot product\n\nnp.dot(X, Y)",
   "metadata": {
    "ExecuteTime": {
     "end_time": "2025-02-17T21:10:54.863066Z",
     "start_time": "2025-02-17T21:10:54.860726Z"
    }
   },
   "outputs": [
    {
     "data": {
      "text/plain": [
       "np.int64(7)"
      ]
     },
     "execution_count": 61,
     "metadata": {},
     "output_type": "execute_result"
    }
   ],
   "execution_count": 61
  },
  {
   "cell_type": "code",
   "source": "#Elements of X\nprint(X[0])\nprint(X[1])",
   "metadata": {
    "ExecuteTime": {
     "end_time": "2025-02-17T21:10:56.736932Z",
     "start_time": "2025-02-17T21:10:56.735223Z"
    }
   },
   "outputs": [
    {
     "name": "stdout",
     "output_type": "stream",
     "text": [
      "1\n",
      "2\n"
     ]
    }
   ],
   "execution_count": 62
  },
  {
   "cell_type": "code",
   "source": "#Elements of Y\nprint(Y[0])\nprint(Y[1])",
   "metadata": {
    "ExecuteTime": {
     "end_time": "2025-02-17T21:10:58.521211Z",
     "start_time": "2025-02-17T21:10:58.519619Z"
    }
   },
   "outputs": [
    {
     "name": "stdout",
     "output_type": "stream",
     "text": [
      "3\n",
      "2\n"
     ]
    }
   ],
   "execution_count": 63
  },
  {
   "cell_type": "markdown",
   "source": "We are performing the dot product which is shown as below\n",
   "metadata": {}
  },
  {
   "cell_type": "markdown",
   "source": "<img src=\"https://cf-courses-data.s3.us.cloud-object-storage.appdomain.cloud/IBMDeveloperSkillsNetwork-PY0101EN-SkillsNetwork/labs/Module%205/images/dot1.png\">\n",
   "metadata": {}
  },
  {
   "cell_type": "markdown",
   "source": "### Try it yourself\n\nPerform dot operation on the given numpy array ar1 and ar2:\n",
   "metadata": {}
  },
  {
   "cell_type": "code",
   "source": [
    "arr1 = np.array([3, 5])\n",
    "arr2 = np.array([2, 4])\n",
    "\n",
    "# Enter your code here\n",
    "print(np.dot(arr1, arr2))"
   ],
   "metadata": {
    "ExecuteTime": {
     "end_time": "2025-02-17T21:11:10.459778Z",
     "start_time": "2025-02-17T21:11:10.457200Z"
    }
   },
   "outputs": [
    {
     "name": "stdout",
     "output_type": "stream",
     "text": [
      "26\n"
     ]
    }
   ],
   "execution_count": 64
  },
  {
   "cell_type": "markdown",
   "source": "<details><summary>Click here for the solution</summary>\n\n```python\narr3 = np.dot(arr1, arr2)\narr3\n\n    \n```\n\n</details>\n",
   "metadata": {}
  },
  {
   "cell_type": "markdown",
   "source": "### Adding Constant to a Numpy Array\n",
   "metadata": {}
  },
  {
   "cell_type": "markdown",
   "source": "Consider the following array:\n",
   "metadata": {}
  },
  {
   "cell_type": "code",
   "source": "# Create a constant to numpy array\n\nu = np.array([1, 2, 3, -1]) \nu",
   "metadata": {
    "ExecuteTime": {
     "end_time": "2025-02-17T21:11:16.180180Z",
     "start_time": "2025-02-17T21:11:16.177730Z"
    }
   },
   "outputs": [
    {
     "data": {
      "text/plain": [
       "array([ 1,  2,  3, -1])"
      ]
     },
     "execution_count": 65,
     "metadata": {},
     "output_type": "execute_result"
    }
   ],
   "execution_count": 65
  },
  {
   "cell_type": "markdown",
   "source": "Adding the constant 1 to each element in the array:\n",
   "metadata": {}
  },
  {
   "cell_type": "code",
   "source": "# Add the constant to array\n\nu + 1",
   "metadata": {
    "ExecuteTime": {
     "end_time": "2025-02-17T21:11:21.373337Z",
     "start_time": "2025-02-17T21:11:21.370838Z"
    }
   },
   "outputs": [
    {
     "data": {
      "text/plain": [
       "array([2, 3, 4, 0])"
      ]
     },
     "execution_count": 66,
     "metadata": {},
     "output_type": "execute_result"
    }
   ],
   "execution_count": 66
  },
  {
   "cell_type": "markdown",
   "source": "The process is summarised in the following animation:\n",
   "metadata": {}
  },
  {
   "cell_type": "markdown",
   "source": "<img src=\"https://cf-courses-data.s3.us.cloud-object-storage.appdomain.cloud/IBMDeveloperSkillsNetwork-PY0101EN-SkillsNetwork/labs/Module%205/images/NumOneAdd.gif\" width=\"500\">\n",
   "metadata": {}
  },
  {
   "cell_type": "markdown",
   "source": "### Try it yourself\n\nAdd Constant 5 to the given numpy array ar:\n",
   "metadata": {}
  },
  {
   "cell_type": "code",
   "source": [
    "arr = np.array([1, 2, 3, -1]) \n",
    "\n",
    "# Enter your code here\n",
    "arr + 5"
   ],
   "metadata": {
    "ExecuteTime": {
     "end_time": "2025-02-17T21:11:32.938879Z",
     "start_time": "2025-02-17T21:11:32.936052Z"
    }
   },
   "outputs": [
    {
     "data": {
      "text/plain": [
       "array([6, 7, 8, 4])"
      ]
     },
     "execution_count": 67,
     "metadata": {},
     "output_type": "execute_result"
    }
   ],
   "execution_count": 67
  },
  {
   "cell_type": "markdown",
   "source": "<details><summary>Click here for the solution</summary>\n\n```python\narr + 5\n\n    \n```\n\n</details>\n",
   "metadata": {}
  },
  {
   "cell_type": "markdown",
   "source": "<hr>\n",
   "metadata": {}
  },
  {
   "cell_type": "markdown",
   "source": "## Mathematical Functions\n",
   "metadata": {}
  },
  {
   "cell_type": "markdown",
   "source": "We can access the value of <code>pi</code> in numpy as follows :\n",
   "metadata": {}
  },
  {
   "cell_type": "code",
   "source": "# The value of pi\n\nnp.pi",
   "metadata": {
    "ExecuteTime": {
     "end_time": "2025-02-17T21:11:37.165055Z",
     "start_time": "2025-02-17T21:11:37.162867Z"
    }
   },
   "outputs": [
    {
     "data": {
      "text/plain": [
       "3.141592653589793"
      ]
     },
     "execution_count": 68,
     "metadata": {},
     "output_type": "execute_result"
    }
   ],
   "execution_count": 68
  },
  {
   "cell_type": "markdown",
   "source": "We can create the following numpy array in Radians:\n",
   "metadata": {}
  },
  {
   "cell_type": "code",
   "source": "# Create the numpy array in radians\n\nx = np.array([0, np.pi/2 , np.pi])",
   "metadata": {
    "ExecuteTime": {
     "end_time": "2025-02-17T21:11:40.249260Z",
     "start_time": "2025-02-17T21:11:40.247821Z"
    }
   },
   "outputs": [],
   "execution_count": 69
  },
  {
   "cell_type": "markdown",
   "source": "We can apply the function <code>sin</code> to the array <code>x</code> and assign the values to the array <code>y</code>; this applies the sine function to each element in the array:\n",
   "metadata": {}
  },
  {
   "cell_type": "code",
   "source": "# Calculate the sin of each elements\n\ny = np.sin(x)\ny",
   "metadata": {
    "ExecuteTime": {
     "end_time": "2025-02-17T21:11:44.466460Z",
     "start_time": "2025-02-17T21:11:44.464198Z"
    }
   },
   "outputs": [
    {
     "data": {
      "text/plain": [
       "array([0.0000000e+00, 1.0000000e+00, 1.2246468e-16])"
      ]
     },
     "execution_count": 70,
     "metadata": {},
     "output_type": "execute_result"
    }
   ],
   "execution_count": 70
  },
  {
   "cell_type": "markdown",
   "source": "<hr>\n",
   "metadata": {}
  },
  {
   "cell_type": "markdown",
   "source": "## Linspace\n",
   "metadata": {}
  },
  {
   "cell_type": "markdown",
   "source": "A useful function for plotting mathematical functions is <code>linspace</code>.   Linspace returns evenly spaced numbers over a specified interval. \n\n **numpy.linspace(start, stop, num = int value)**\n \nstart  :  start of interval range\n\nstop   :  end of interval range\n\nnum    :  Number of samples to generate.\n",
   "metadata": {}
  },
  {
   "cell_type": "code",
   "source": "# Makeup a numpy array within [-2, 2] and 5 elements\n\nnp.linspace(-2, 2, num=5)",
   "metadata": {
    "ExecuteTime": {
     "end_time": "2025-02-17T21:12:01.342575Z",
     "start_time": "2025-02-17T21:12:01.340395Z"
    }
   },
   "outputs": [
    {
     "data": {
      "text/plain": [
       "array([-2., -1.,  0.,  1.,  2.])"
      ]
     },
     "execution_count": 71,
     "metadata": {},
     "output_type": "execute_result"
    }
   ],
   "execution_count": 71
  },
  {
   "cell_type": "markdown",
   "source": "If we change the parameter <code>num</code> to 9, we get 9 evenly spaced numbers over the interval from -2 to 2:\n",
   "metadata": {}
  },
  {
   "cell_type": "code",
   "source": "# Make a numpy array within [-2, 2] and 9 elements\n\nnp.linspace(-2, 2, num=9)",
   "metadata": {
    "ExecuteTime": {
     "end_time": "2025-02-17T21:12:08.035540Z",
     "start_time": "2025-02-17T21:12:08.033002Z"
    }
   },
   "outputs": [
    {
     "data": {
      "text/plain": [
       "array([-2. , -1.5, -1. , -0.5,  0. ,  0.5,  1. ,  1.5,  2. ])"
      ]
     },
     "execution_count": 72,
     "metadata": {},
     "output_type": "execute_result"
    }
   ],
   "execution_count": 72
  },
  {
   "cell_type": "markdown",
   "source": "We can use the function <code>linspace</code> to generate 100 evenly spaced samples from the interval 0 to 2π:\n",
   "metadata": {}
  },
  {
   "cell_type": "code",
   "source": "# Make a numpy array within [0, 2π] and 100 elements \n\nx = np.linspace(0, 2*np.pi, num=100)",
   "metadata": {
    "ExecuteTime": {
     "end_time": "2025-02-17T21:12:11.671111Z",
     "start_time": "2025-02-17T21:12:11.669529Z"
    }
   },
   "outputs": [],
   "execution_count": 73
  },
  {
   "cell_type": "markdown",
   "source": "We can apply the sine function to each element in the array <code>x</code> and assign it to the array <code>y</code>:\n",
   "metadata": {}
  },
  {
   "cell_type": "code",
   "source": "# Calculate the sine of x list\n\ny = np.sin(x)",
   "metadata": {
    "ExecuteTime": {
     "end_time": "2025-02-17T21:12:14.790019Z",
     "start_time": "2025-02-17T21:12:14.788222Z"
    }
   },
   "outputs": [],
   "execution_count": 74
  },
  {
   "cell_type": "code",
   "source": "# Plot the result\n\nplt.plot(x, y)",
   "metadata": {
    "ExecuteTime": {
     "end_time": "2025-02-17T21:12:17.842004Z",
     "start_time": "2025-02-17T21:12:17.804215Z"
    }
   },
   "outputs": [
    {
     "data": {
      "text/plain": [
       "[<matplotlib.lines.Line2D at 0x114ca7810>]"
      ]
     },
     "execution_count": 75,
     "metadata": {},
     "output_type": "execute_result"
    },
    {
     "data": {
      "text/plain": [
       "<Figure size 640x480 with 1 Axes>"
      ],
      "image/png": "[encoded data removed]"
     },
     "metadata": {},
     "output_type": "display_data"
    }
   ],
   "execution_count": 75
  },
  {
   "cell_type": "markdown",
   "source": "### Try it yourself\n\n Make a numpy array within [5, 4] and 6 elements\n",
   "metadata": {}
  },
  {
   "cell_type": "code",
   "source": [
    "# Enter your code here\n",
    "np.linspace(5, 4, num=6)"
   ],
   "metadata": {
    "ExecuteTime": {
     "end_time": "2025-02-17T21:12:40.799999Z",
     "start_time": "2025-02-17T21:12:40.797308Z"
    }
   },
   "outputs": [
    {
     "data": {
      "text/plain": [
       "array([5. , 4.8, 4.6, 4.4, 4.2, 4. ])"
      ]
     },
     "execution_count": 76,
     "metadata": {},
     "output_type": "execute_result"
    }
   ],
   "execution_count": 76
  },
  {
   "cell_type": "markdown",
   "source": "<details><summary>Click here for the solution</summary>\n\n```python\nnp.linspace(5, 4, num=6)\n\n    \n```\n\n</details>\n",
   "metadata": {}
  },
  {
   "cell_type": "markdown",
   "source": "<hr>\n",
   "metadata": {}
  },
  {
   "cell_type": "markdown",
   "source": "### Iterating 1-D Arrays\n\nIterating means going through elements one by one.\n\nIf we iterate on a 1-D array it will go through each element one by one.\n",
   "metadata": {}
  },
  {
   "cell_type": "markdown",
   "source": "If we execute the numpy array, we get in the array format\n",
   "metadata": {}
  },
  {
   "cell_type": "code",
   "source": "arr1 = np.array([1, 2, 3])\nprint(arr1)",
   "metadata": {
    "ExecuteTime": {
     "end_time": "2025-02-17T21:12:52.563257Z",
     "start_time": "2025-02-17T21:12:52.561406Z"
    }
   },
   "outputs": [
    {
     "name": "stdout",
     "output_type": "stream",
     "text": [
      "[1 2 3]\n"
     ]
    }
   ],
   "execution_count": 77
  },
  {
   "cell_type": "markdown",
   "source": "But if you want to result in the form of the list, then you can use for loop:\n",
   "metadata": {}
  },
  {
   "cell_type": "code",
   "source": "for x in arr1:\n  print(x)",
   "metadata": {
    "ExecuteTime": {
     "end_time": "2025-02-17T21:12:55.518150Z",
     "start_time": "2025-02-17T21:12:55.516370Z"
    }
   },
   "outputs": [
    {
     "name": "stdout",
     "output_type": "stream",
     "text": [
      "1\n",
      "2\n",
      "3\n"
     ]
    }
   ],
   "execution_count": 78
  },
  {
   "cell_type": "markdown",
   "source": "## Quiz on 1D Numpy Array\n",
   "metadata": {}
  },
  {
   "cell_type": "markdown",
   "source": "Implement the following vector subtraction in numpy: u-v\n",
   "metadata": {}
  },
  {
   "cell_type": "code",
   "source": [
    "# Write your code below and press Shift+Enter to execute\n",
    "\n",
    "u = np.array([1, 0])\n",
    "v = np.array([0, 1])\n",
    "u - v"
   ],
   "metadata": {
    "ExecuteTime": {
     "end_time": "2025-02-17T21:13:03.534976Z",
     "start_time": "2025-02-17T21:13:03.532836Z"
    }
   },
   "outputs": [
    {
     "data": {
      "text/plain": [
       "array([ 1, -1])"
      ]
     },
     "execution_count": 79,
     "metadata": {},
     "output_type": "execute_result"
    }
   ],
   "execution_count": 79
  },
  {
   "cell_type": "markdown",
   "source": "<details><summary>Click here for the solution</summary>\n\n```python\nu - v\n```\n\n</details>\n",
   "metadata": {}
  },
  {
   "cell_type": "markdown",
   "source": "<hr>\n",
   "metadata": {}
  },
  {
   "cell_type": "markdown",
   "source": "Multiply the numpy array z with -2:\n",
   "metadata": {}
  },
  {
   "cell_type": "code",
   "source": [
    "# Write your code below and press Shift+Enter to execute\n",
    "\n",
    "z = np.array([2, 4])\n",
    "(-2) * z"
   ],
   "metadata": {
    "ExecuteTime": {
     "end_time": "2025-02-17T21:13:16.437101Z",
     "start_time": "2025-02-17T21:13:16.432621Z"
    }
   },
   "outputs": [
    {
     "data": {
      "text/plain": [
       "array([-4, -8])"
      ]
     },
     "execution_count": 80,
     "metadata": {},
     "output_type": "execute_result"
    }
   ],
   "execution_count": 80
  },
  {
   "cell_type": "markdown",
   "source": "<details><summary>Click here for the solution</summary>\n\n```python\n-2 * z\n```\n\n</details>\n",
   "metadata": {}
  },
  {
   "cell_type": "markdown",
   "source": "<hr>\n",
   "metadata": {}
  },
  {
   "cell_type": "markdown",
   "source": "Consider the list <code>\\[1, 2, 3, 4, 5]</code> and <code>\\[1, 0, 1, 0, 1]</code>. Cast both lists to a numpy array then multiply them together:\n",
   "metadata": {}
  },
  {
   "cell_type": "code",
   "source": [
    "# Write your code below and press Shift+Enter to execute\n",
    "np.multiply(np.array([1, 2, 3, 4, 5]), np.array([1, 0, 1, 0, 1]))"
   ],
   "metadata": {
    "ExecuteTime": {
     "end_time": "2025-02-17T21:14:00.915964Z",
     "start_time": "2025-02-17T21:14:00.907638Z"
    }
   },
   "outputs": [
    {
     "data": {
      "text/plain": [
       "array([1, 0, 3, 0, 5])"
      ]
     },
     "execution_count": 81,
     "metadata": {},
     "output_type": "execute_result"
    }
   ],
   "execution_count": 81
  },
  {
   "cell_type": "markdown",
   "source": "<details><summary>Click here for the solution</summary>\n\n```python\na = np.array([1, 2, 3, 4, 5])\nb = np.array([1, 0, 1, 0, 1])\na * b\n```\n\n</details>\n",
   "metadata": {}
  },
  {
   "cell_type": "markdown",
   "source": "<hr>\n",
   "metadata": {}
  },
  {
   "cell_type": "code",
   "source": "# Import the libraries\n\nimport time \nimport sys\nimport numpy as np \n\nimport matplotlib.pyplot as plt\n\n\ndef Plotvec2(a,b):\n    ax = plt.axes()# to generate the full window axes\n    ax.arrow(0, 0, *a, head_width=0.05, color ='r', head_length=0.1)#Add an arrow to the  a Axes with arrow head width 0.05, color red and arrow head length 0.1\n    plt.text(*(a + 0.1), 'a')\n    ax.arrow(0, 0, *b, head_width=0.05, color ='b', head_length=0.1)#Add an arrow to the  b Axes with arrow head width 0.05, color blue and arrow head length 0.1\n    plt.text(*(b + 0.1), 'b')\n    plt.ylim(-2, 2)#set the ylim to bottom(-2), top(2)\n    plt.xlim(-2, 2)#set the xlim to left(-2), right(2)\n    \n    \n",
   "metadata": {
    "ExecuteTime": {
     "end_time": "2025-02-17T21:14:07.537560Z",
     "start_time": "2025-02-17T21:14:07.535428Z"
    }
   },
   "outputs": [],
   "execution_count": 82
  },
  {
   "cell_type": "markdown",
   "source": "Convert the list <code>\\[-1, 1]</code> and <code>\\[1, 1]</code> to numpy arrays <code>a</code> and <code>b</code>. Then, plot the arrays as vectors using the fuction <code>Plotvec2</code> and find their dot product:\n",
   "metadata": {}
  },
  {
   "cell_type": "code",
   "source": [
    "# Write your code below and press Shift+Enter to execute\n",
    "a = np.array([-1, 1])\n",
    "b = np.array([1, 1])\n",
    "Plotvec2(a, b)\n",
    "np.dot(a, b)"
   ],
   "metadata": {
    "ExecuteTime": {
     "end_time": "2025-02-17T21:15:07.392034Z",
     "start_time": "2025-02-17T21:15:07.352835Z"
    }
   },
   "outputs": [
    {
     "data": {
      "text/plain": [
       "np.int64(0)"
      ]
     },
     "execution_count": 85,
     "metadata": {},
     "output_type": "execute_result"
    },
    {
     "data": {
      "text/plain": [
       "<Figure size 640x480 with 1 Axes>"
      ],
      "image/png": "[encoded data removed]"
     },
     "metadata": {},
     "output_type": "display_data"
    }
   ],
   "execution_count": 85
  },
  {
   "cell_type": "markdown",
   "source": "<details><summary>Click here for the solution</summary>\n\n```python\n\n\na = np.array([-1, 1])\nb = np.array([1, 1])\nPlotvec2(a, b)\nprint(\"The dot product is\", np.dot(a,b))\n\n```\n\n</details>\n",
   "metadata": {}
  },
  {
   "cell_type": "markdown",
   "source": "<hr>\n",
   "metadata": {}
  },
  {
   "cell_type": "markdown",
   "source": "Convert the list <code>\\[1, 0]</code> and <code>\\[0, 1]</code> to numpy arrays <code>a</code> and <code>b</code>. Then, plot the arrays as vectors using the function <code>Plotvec2</code> and find their dot product:\n",
   "metadata": {}
  },
  {
   "cell_type": "code",
   "source": [
    "# Write your code below and press Shift+Enter to execute\n",
    "a = np.array([1, 0])\n",
    "b = np.array([0, 1])\n",
    "Plotvec2(a, b)\n",
    "np.dot(a, b)"
   ],
   "metadata": {
    "ExecuteTime": {
     "end_time": "2025-02-17T21:15:41.567277Z",
     "start_time": "2025-02-17T21:15:41.500280Z"
    }
   },
   "outputs": [
    {
     "data": {
      "text/plain": [
       "np.int64(0)"
      ]
     },
     "execution_count": 86,
     "metadata": {},
     "output_type": "execute_result"
    },
    {
     "data": {
      "text/plain": [
       "<Figure size 640x480 with 1 Axes>"
      ],
      "image/png": "[encoded data removed]"
     },
     "metadata": {},
     "output_type": "display_data"
    }
   ],
   "execution_count": 86
  },
  {
   "cell_type": "markdown",
   "source": "<details><summary>Click here for the solution</summary>\n\n```python\na = np.array([1, 0])\nb = np.array([0, 1])\nPlotvec2(a, b)\nprint(\"The dot product is\", np.dot(a, b))\n\n```\n\n</details>\n",
   "metadata": {}
  },
  {
   "cell_type": "markdown",
   "source": "<hr>\n",
   "metadata": {}
  },
  {
   "cell_type": "markdown",
   "source": "Convert the list <code>\\[1, 1]</code> and <code>\\[0, 1]</code> to numpy arrays <code>a</code> and <code>b</code>. Then plot the arrays as vectors using the fuction <code>Plotvec2</code> and find their dot product:\n",
   "metadata": {}
  },
  {
   "cell_type": "code",
   "source": [
    "# Write your code below and press Shift+Enter to execute\n",
    "a = np.array([1, 1])\n",
    "b = np.array([0, 1])\n",
    "Plotvec2(a, b)\n",
    "np.dot(a, b)"
   ],
   "metadata": {
    "ExecuteTime": {
     "end_time": "2025-02-17T21:16:06.879595Z",
     "start_time": "2025-02-17T21:16:06.842377Z"
    }
   },
   "outputs": [
    {
     "data": {
      "text/plain": [
       "np.int64(1)"
      ]
     },
     "execution_count": 88,
     "metadata": {},
     "output_type": "execute_result"
    },
    {
     "data": {
      "text/plain": [
       "<Figure size 640x480 with 1 Axes>"
      ],
      "image/png": "[encoded data removed]"
     },
     "metadata": {},
     "output_type": "display_data"
    }
   ],
   "execution_count": 88
  },
  {
   "cell_type": "markdown",
   "source": "<details><summary>Click here for the solution</summary>\n\n```python\na = np.array([1, 1])\nb = np.array([0, 1])\nPlotvec2(a, b)\nprint(\"The dot product is\", np.dot(a, b))\n\n```\n\n</details>\n",
   "metadata": {}
  },
  {
   "cell_type": "markdown",
   "source": "<hr>\n",
   "metadata": {}
  },
  {
   "cell_type": "markdown",
   "source": "Why are the results of the dot product for <code>\\[-1, 1]</code> and <code>\\[1, 1]</code> and the dot product for <code>\\[1, 0]</code> and <code>\\[0, 1]</code> zero, but not zero for the dot product for <code>\\[1, 1]</code> and <code>\\[0, 1]</code>? <p><i>Hint: Study the corresponding figures, pay attention to the direction the arrows are pointing to.</i></p>\n",
   "metadata": {}
  },
  {
   "cell_type": "code",
   "source": "# Write your code below and press Shift+Enter to execute\n",
   "metadata": {
    "ExecuteTime": {
     "end_time": "2025-02-17T21:16:25.865745Z",
     "start_time": "2025-02-17T21:16:25.863989Z"
    }
   },
   "outputs": [],
   "execution_count": 89
  },
  {
   "cell_type": "markdown",
   "source": "<details><summary>Click here for the solution</summary>\n\n```python\nThe vectors used for question 4 and 5 are perpendicular. As a result, the dot product is zero. \n\n```\n\n</details>\n",
   "metadata": {}
  },
  {
   "cell_type": "markdown",
   "source": "Convert the list <code>\\[1, 2, 3]</code> and <code>\\[8, 9, 10]</code> to numpy arrays <code>arr1</code> and <code>arr2</code>. Then perform <code>Addition</code> , <code>Subtraction</code> , <code>Multiplication</code> , <code>Division</code> and <code>Dot Operation</code> on the <code>arr1</code> and <code>arr2</code>.\n\n",
   "metadata": {}
  },
  {
   "cell_type": "code",
   "source": [
    "# Write your code below and press Shift+Enter to execute\n",
    "arr1 = np.array([1, 2, 3])\n",
    "arr2 = np.array([8, 9, 10])\n",
    "print(np.add(arr1, arr2))\n",
    "print(np.subtract(arr1, arr2))\n",
    "print(np.multiply(arr1, arr2))\n",
    "print(np.divide(arr1, arr2))\n",
    "print(np.dot(arr1, arr2))"
   ],
   "metadata": {
    "ExecuteTime": {
     "end_time": "2025-02-17T21:17:20.930114Z",
     "start_time": "2025-02-17T21:17:20.924195Z"
    }
   },
   "outputs": [
    {
     "name": "stdout",
     "output_type": "stream",
     "text": [
      "[ 9 11 13]\n",
      "[-7 -7 -7]\n",
      "[ 8 18 30]\n",
      "[0.125      0.22222222 0.3       ]\n",
      "56\n"
     ]
    }
   ],
   "execution_count": 90
  },
  {
   "cell_type": "markdown",
   "source": "<details><summary>Click here for the solution</summary>\n\n```python\narr1 = np.array([1, 2, 3])\narr2 = np.array([8, 9, 10])\n\narr3 = np.add(arr1, arr2)\narr3\n\narr4 = np.subtract(arr1, arr2)\narr4\n\narr5 = np.multiply(arr1, arr2)\narr5\n\n\narr6 = np.divide(arr1, arr2)\narr6\n\narr7 = np.dot(arr1, arr2)\narr7\n```\n\n</details>\n",
   "metadata": {}
  },
  {
   "cell_type": "markdown",
   "source": "Convert the list <code>\\[1, 2, 3, 4, 5]</code> and <code>\\[6, 7, 8, 9, 10]</code> to numpy arrays <code>arr1</code> and <code>arr2</code>. Then find the even and odd numbers from <code>arr1</code> and <code>arr2</code>.\n",
   "metadata": {}
  },
  {
   "cell_type": "code",
   "source": [
    "# Write your code below and press Shift+Enter to execute\n",
    "arr1 = np.array([1, 2, 3, 4, 5])\n",
    "arr2 = np.array([6, 7, 8, 9, 10])\n",
    "\n",
    "even_1 = arr1[1::2]\n",
    "odd_1 = arr1[::2]\n",
    "even_2 = arr2[::2]\n",
    "odd_2 = arr2[1::2]\n",
    "\n",
    "print(even_1)\n",
    "print(odd_1)\n",
    "print(even_2)\n",
    "print(odd_2)"
   ],
   "metadata": {
    "ExecuteTime": {
     "end_time": "2025-02-17T21:19:21.192571Z",
     "start_time": "2025-02-17T21:19:21.189198Z"
    }
   },
   "outputs": [
    {
     "name": "stdout",
     "output_type": "stream",
     "text": [
      "[2 4]\n",
      "[1 3 5]\n",
      "[ 6  8 10]\n",
      "[7 9]\n"
     ]
    }
   ],
   "execution_count": 93
  },
  {
   "cell_type": "markdown",
   "source": "<details><summary>Click here for the solution</summary>\n\n```python\n\n\narr1 = np.array([1, 2, 3, 4, 5])\narr2 = np.array([6, 7, 8, 9, 10])\n\n#Starting index in slice is 1 as first even element(2) in array1 is at index 1\neven_arr1 = arr1[1:5:2]\nprint(\"even for array1\",even_arr1)\n    \n#Starting index in slice is 0 as first odd element(1) in array1 is at index 0\nodd_arr1=arr1[0:5:2]\nprint(\"odd for array1\",odd_arr1)\n\n#Starting index in slice is 0 as first even element(6) in array2 is at index 0\neven_arr2 = arr2[0:5:2]\nprint(\"even for array2\",even_arr2)\n    \n    \n#Starting index in slice is 1 as first odd element(7) in array2 is at index 1\nodd_arr2=arr2[1:5:2]\nprint(\"odd for array2\",odd_arr2)\n\n```\n\n</details>\n",
   "metadata": {}
  },
  {
   "cell_type": "markdown",
   "source": "<hr>\n<h2>The last exercise!</h2>\n<p>Congratulations, you have completed your first lesson and hands-on lab in Python. \n<hr>\n",
   "metadata": {}
  },
  {
   "cell_type": "markdown",
   "source": "## Author\n\n<a href=\"https://www.linkedin.com/in/joseph-s-50398b136/?utm_medium=Exinfluencer&utm_source=Exinfluencer&utm_content=000026UJ&utm_term=10006555&utm_id=NA-SkillsNetwork-Channel-SkillsNetworkCoursesIBMDeveloperSkillsNetworkPY0101ENSkillsNetwork19487395-2021-01-01\" target=\"_blank\">Joseph Santarcangelo</a>\n\n## Other contributors\n\n<a href=\"https://www.linkedin.com/in/jiahui-mavis-zhou-a4537814a?utm_medium=Exinfluencer&utm_source=Exinfluencer&utm_content=000026UJ&utm_term=10006555&utm_id=NA-SkillsNetwork-Channel-SkillsNetworkCoursesIBMDeveloperSkillsNetworkPY0101ENSkillsNetwork19487395-2021-01-01\">Mavis Zhou</a>\n\n## Change Log\n\n| Date (YYYY-MM-DD) | Version | Changed By | Change Description                 |\n| ----------------- | ------- | ---------- | ---------------------------------- |\n| 2023-11-02 | 2.3 | Abhishek Gagneja | Instructions updated |\n| 2022-03-08        | 2.2     | Niveditha  | Modified and added practice problem|\n| 2022-01-10        | 2.1     | Malika     | Removed the readme for GitShare    |\n| 2020-08-26        | 2.0     | Lavanya    | Moved lab to course repo in GitLab |\n|                   |         |            |                                    |\n|                   |         |            |                                    |\n\n<hr/>\n\n## <h3 align=\"center\"> © IBM Corporation 2023. All rights reserved. <h3/>\n",
   "metadata": {}
  },
  {
   "cell_type": "code",
   "source": "",
   "metadata": {},
   "outputs": [],
   "execution_count": null
  }
 ]
}
